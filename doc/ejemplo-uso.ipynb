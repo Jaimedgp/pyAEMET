{
 "cells": [
  {
   "cell_type": "markdown",
   "metadata": {},
   "source": [
    "# pyAEMET\n",
    "\n",
    "---\n",
    "\n",
    "pyaemet es una librería para python desarrollada para la descarga de los valores climatologicos diarios de la AEMET a partir de su API OpenData. La librería contiene una serie de métodos que facilitan la descarga y filtrado de los datos climatológicos y cuyo uso se detalla a continuacion."
   ]
  },
  {
   "cell_type": "markdown",
   "metadata": {},
   "source": [
    "## Uso de la librería\n",
    "---\n",
    "Para poder usar la librería es necesario disponer de una APIkey de OpenData AEMET que se puede obtener en este [link](https://opendata.aemet.es/centrodedescargas/obtencionAPIKey). A partir de esta clave se puede crear un objeto de la clase principal `AemetClima` que permitirá utilizar los métodos de la librería."
   ]
  },
  {
   "cell_type": "code",
   "execution_count": 1,
   "metadata": {},
   "outputs": [
    {
     "ename": "ImportError",
     "evalue": "cannot import name 'AemetClima' from 'pyaemet' (/home/jaimedgp/.local/lib/python3.7/site-packages/pyaemet/__init__.py)",
     "output_type": "error",
     "traceback": [
      "\u001b[0;31m---------------------------------------------------------------------------\u001b[0m",
      "\u001b[0;31mImportError\u001b[0m                               Traceback (most recent call last)",
      "\u001b[0;32m<ipython-input-1-1c86ea9827b0>\u001b[0m in \u001b[0;36m<module>\u001b[0;34m\u001b[0m\n\u001b[1;32m      1\u001b[0m \u001b[0;32mfrom\u001b[0m \u001b[0mpyaemet\u001b[0m\u001b[0;34m.\u001b[0m\u001b[0mapikey_file\u001b[0m \u001b[0;32mimport\u001b[0m \u001b[0mapikey\u001b[0m\u001b[0;34m\u001b[0m\u001b[0;34m\u001b[0m\u001b[0m\n\u001b[0;32m----> 2\u001b[0;31m \u001b[0;32mfrom\u001b[0m \u001b[0mpyaemet\u001b[0m \u001b[0;32mimport\u001b[0m \u001b[0mAemetClima\u001b[0m\u001b[0;34m\u001b[0m\u001b[0;34m\u001b[0m\u001b[0m\n\u001b[0m\u001b[1;32m      3\u001b[0m \u001b[0;34m\u001b[0m\u001b[0m\n\u001b[1;32m      4\u001b[0m \u001b[0maemet\u001b[0m \u001b[0;34m=\u001b[0m \u001b[0mAemetClima\u001b[0m\u001b[0;34m(\u001b[0m\u001b[0mapikey\u001b[0m\u001b[0;34m=\u001b[0m\u001b[0mapikey\u001b[0m\u001b[0;34m)\u001b[0m\u001b[0;34m\u001b[0m\u001b[0;34m\u001b[0m\u001b[0m\n",
      "\u001b[0;31mImportError\u001b[0m: cannot import name 'AemetClima' from 'pyaemet' (/home/jaimedgp/.local/lib/python3.7/site-packages/pyaemet/__init__.py)"
     ]
    }
   ],
   "source": [
    "from pyaemet.apikey_file import apikey\n",
    "from pyaemet import AemetClima\n",
    "\n",
    "aemet = AemetClima(apikey=apikey)"
   ]
  },
  {
   "cell_type": "markdown",
   "metadata": {},
   "source": [
    "### Información de las estaciones\n",
    "\n",
    "La librería permite obtener información sobre las estaciones con datos climatológicos diarios disponibles por la AEMET. Además de la información de cada estación facilitada por la AEMET también se incluyen el Distrito, Ciudad, Provincia y Comunidad Autónoma de cada estación. \n",
    "\n",
    "Para algunos casos se ha detectado que la provincia facilitada no corresponde con la provincia obtenida a partir de las coordenadas debido a que la estación se encuentra proxima a los límites entre provincias. Por ello se ha denominado la provincia facilitada por la AEMET con el nombre de `provinciaAemet` y la determinada por las coordenadas como `provincia`."
   ]
  },
  {
   "cell_type": "code",
   "execution_count": null,
   "metadata": {},
   "outputs": [],
   "source": [
    "estaciones = aemet.estaciones_info()\n",
    "estaciones.head()"
   ]
  },
  {
   "cell_type": "markdown",
   "metadata": {},
   "source": [
    "Para facilitar el filtrado de las estaciones se ha incluido el método `AemetClima.estaciones_loc()` que permite filtrar las estaciones por los valores sus columnas. De esta manera se pueden filtrar las estaciones por ciudad, provincia o comunidad autónoma.\n",
    "\n",
    "```python\n",
    "    AemetClima(apikey).estaciones_loc(nombre_columna=[\"lista de valores\"])\n",
    "```"
   ]
  },
  {
   "cell_type": "code",
   "execution_count": null,
   "metadata": {},
   "outputs": [],
   "source": [
    "# estaciones disponibles en la provincia de Barcelona\n",
    "pontevedra = aemet.estaciones_loc(provincia=[\"Pontevedra\"])\n",
    "pontevedra.head()"
   ]
  },
  {
   "cell_type": "code",
   "execution_count": null,
   "metadata": {},
   "outputs": [],
   "source": [
    "# Estaciones disponibles en la comunidad de Madrid\n",
    "madrid = aemet.estaciones_loc(CA=[\"Comunidad de Madrid\"])\n",
    "madrid.head()"
   ]
  },
  {
   "cell_type": "markdown",
   "metadata": {},
   "source": [
    "Por otro lado, el método `AemetClima.estaciones_cerca(latitud, longitud, n_cercanas)` te permite obtener las `n_cercanas` estaciones de la AEMET más cercanas a una cierta localización definida por sus coordenadas latitud y longitud, junto con su distancia a la localización en km. Por defecto se devuelven las 3 estaciones más cercanas."
   ]
  },
  {
   "cell_type": "code",
   "execution_count": null,
   "metadata": {},
   "outputs": [],
   "source": [
    "cerca = aemet.estaciones_cerca(latitud=43.47, longitud=-3.798, n_cercanas=5)\n",
    "cerca.head()"
   ]
  },
  {
   "cell_type": "markdown",
   "metadata": {},
   "source": [
    "Por otro lado, se ha añadido el método `AemetClima.estaciones_curacion` para facilitar el curado de los datos. Este método permite obtener las estaciones que cumplan el requisito de que tengan al menos un porcentaje determinado `umbral` de los datos de ciertas variables `variables` disponibles. El método puede comportarse de dos maneras distintas en función de los argumentos que se le pasen."
   ]
  },
  {
   "cell_type": "markdown",
   "metadata": {},
   "source": [
    "El método `AemetClima.estaciones_curacion` permite pasarle la información de las estaciones de las cuales se quiere obtener información sobre la cantidad de datos disponibles. De esta forma, si se le pase el argumento `estaciones` mediante su `indicativo` en forma de `string` o lista de `strings` o pasando directamente un pandas.DataFrame devuelto por los métodos vistos anteriormente con la información de las estaciones el método añadirá la columna `suficientesDatos` booleana según si la estación cumple o no la condición.\n",
    "\n",
    "```python\n",
    "AemetClima(apikey).estaciones_curacion(estacion, \n",
    "                                       fecha_ini=datetime.date(), \n",
    "                                       fecha_fin=datetime.date.now(),\n",
    "                                       umbral=0.75,  # por defecto se toma el 75%  \n",
    "                                       variables=columnas, \n",
    "                                       save_folder=\"directorio/guardar/los/datos/\")\n",
    "```"
   ]
  },
  {
   "cell_type": "code",
   "execution_count": null,
   "metadata": {},
   "outputs": [],
   "source": [
    "aemet.estaciones_curacion(estacion=pontevedra, \n",
    "                          fecha_ini=date(2015, 1, 1), \n",
    "                          fecha_fin=date(2021, 5, 1),\n",
    "                          umbral=0.8, \n",
    "                          variables=[\"tmed\", \"prec\", \"velmedia\"], \n",
    "                          save_folder=None)"
   ]
  },
  {
   "cell_type": "markdown",
   "metadata": {},
   "source": [
    "Por otro lado, se puede utilizar esta funcion para obtener la estación más cercana a una localización que cumpla el requisito de los datos mínimos. Esta función obtiene la información de las estaciones llamando a la función `AemetClima.estaciones_cerca(latitud, longitud, n_cercanas)`.\n",
    "\n",
    "```python\n",
    "AemetClima(apikey).estaciones_curacion(latitud, longitud, n_cercanas, \n",
    "                                       fecha_ini=datetime.date(), \n",
    "                                       fecha_fin=datetime.date.now(),\n",
    "                                       umbral=0.75,  # por defecto se toma el 75%  \n",
    "                                       variables=columnas, \n",
    "                                       save_folder=\"directorio/guardar/los/datos/\")\n",
    "```"
   ]
  },
  {
   "cell_type": "code",
   "execution_count": null,
   "metadata": {},
   "outputs": [],
   "source": [
    "aemet.estaciones_curacion(latitud=43.47, longitud=-3.798, n_cercanas=5,  \n",
    "                          fecha_ini=date(2015, 1, 1), \n",
    "                          fecha_fin=date(2021, 5, 1),\n",
    "                          umbral=0.8, \n",
    "                          variables=[\"tmed\", \"prec\", \"velmedia\"], \n",
    "                          save_folder=None)"
   ]
  },
  {
   "cell_type": "markdown",
   "metadata": {},
   "source": [
    "### Descarga Valores Climatológicos\n",
    "\n",
    "Para la descarga de los datos climatológicos se han de pasar las fechas de inicio y final de los datos, que han de ser objetos de la clase `datetime.date` o `datetime.datetime` y las estaciones de las cuales se quieren obtener los datos. Estas últimas se pueden pasar mediante su `indicativo` en forma de `string` o lista de `strings` o pasando directamente un pandas.DataFrame devuelto por los métodos vistos anteriormente con la información de las estaciones. El valor de la fecha de fin por defecto será la del día en el que se encuentre `datetime.date.today()`.\n",
    "\n",
    "```python\n",
    "AemetClima(apikey).clima_diaria(estacion, \n",
    "                                fecha_ini=datetime.date(), \n",
    "                                fecha_fin=datetime.date.today()\n",
    "                                )\n",
    "```"
   ]
  },
  {
   "cell_type": "code",
   "execution_count": null,
   "metadata": {},
   "outputs": [],
   "source": [
    "from datetime import date\n",
    "\n",
    "data_aranjuez = aemet.clima_diaria(estacion=\"3100B\", \n",
    "                                   fecha_ini=date(2015, 1, 1), \n",
    "                                   fecha_fin=date(2021, 5, 1)\n",
    "                                   )\n",
    "data_aranjuez.head()"
   ]
  },
  {
   "cell_type": "code",
   "execution_count": null,
   "metadata": {},
   "outputs": [],
   "source": [
    "# Datos de la provincia de Tarragona \n",
    "# Se pasa el pandas.DataFrame obtenido anteriormente\n",
    "data_pontevedra = aemet.clima_diaria(estacion=pontevedra, \n",
    "                                    fecha_ini=date(2015, 1, 1), \n",
    "                                    fecha_fin=date(2021, 5, 1)\n",
    "                                    )"
   ]
  },
  {
   "cell_type": "code",
   "execution_count": null,
   "metadata": {},
   "outputs": [],
   "source": [
    "data_pontevedra.groupby(\"indicativo\").plot(x=\"fecha\", y=\"tmin\")"
   ]
  },
  {
   "cell_type": "markdown",
   "metadata": {},
   "source": [
    "## Referencias\n",
    "---\n",
    "La información que recoge y utiliza esta librería es propiedad de la Agencia Estatal de Meteorología disponible mediante su API REST [AEMET OpenData](https://opendata.aemet.es/centrodedescargas/AEMETApi?).\n"
   ]
  }
 ],
 "metadata": {
  "kernelspec": {
   "display_name": "Python 3",
   "language": "python",
   "name": "python3"
  },
  "language_info": {
   "codemirror_mode": {
    "name": "ipython",
    "version": 3
   },
   "file_extension": ".py",
   "mimetype": "text/x-python",
   "name": "python",
   "nbconvert_exporter": "python",
   "pygments_lexer": "ipython3",
   "version": "3.7.6"
  }
 },
 "nbformat": 4,
 "nbformat_minor": 4
}
